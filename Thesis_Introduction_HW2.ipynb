{
  "nbformat": 4,
  "nbformat_minor": 0,
  "metadata": {
    "colab": {
      "provenance": []
    },
    "kernelspec": {
      "name": "python3",
      "display_name": "Python 3"
    },
    "language_info": {
      "name": "python"
    }
  },
  "cells": [
    {
      "cell_type": "code",
      "execution_count": null,
      "metadata": {
        "colab": {
          "base_uri": "https://localhost:8080/"
        },
        "id": "t0M8I19M4NBD",
        "outputId": "869cf431-82b0-4ef1-f9a2-6eed85691a60"
      },
      "outputs": [
        {
          "output_type": "stream",
          "name": "stdout",
          "text": [
            "Looking in indexes: https://pypi.org/simple, https://us-python.pkg.dev/colab-wheels/public/simple/\n",
            "Collecting yfinance\n",
            "  Downloading yfinance-0.1.87-py2.py3-none-any.whl (29 kB)\n",
            "Requirement already satisfied: pandas>=0.24.0 in /usr/local/lib/python3.7/dist-packages (from yfinance) (1.3.5)\n",
            "Requirement already satisfied: appdirs>=1.4.4 in /usr/local/lib/python3.7/dist-packages (from yfinance) (1.4.4)\n",
            "Requirement already satisfied: numpy>=1.15 in /usr/local/lib/python3.7/dist-packages (from yfinance) (1.21.6)\n",
            "Requirement already satisfied: lxml>=4.5.1 in /usr/local/lib/python3.7/dist-packages (from yfinance) (4.9.1)\n",
            "Collecting requests>=2.26\n",
            "  Downloading requests-2.28.1-py3-none-any.whl (62 kB)\n",
            "\u001b[K     |████████████████████████████████| 62 kB 1.2 MB/s \n",
            "\u001b[?25hRequirement already satisfied: multitasking>=0.0.7 in /usr/local/lib/python3.7/dist-packages (from yfinance) (0.0.11)\n",
            "Requirement already satisfied: python-dateutil>=2.7.3 in /usr/local/lib/python3.7/dist-packages (from pandas>=0.24.0->yfinance) (2.8.2)\n",
            "Requirement already satisfied: pytz>=2017.3 in /usr/local/lib/python3.7/dist-packages (from pandas>=0.24.0->yfinance) (2022.6)\n",
            "Requirement already satisfied: six>=1.5 in /usr/local/lib/python3.7/dist-packages (from python-dateutil>=2.7.3->pandas>=0.24.0->yfinance) (1.15.0)\n",
            "Requirement already satisfied: charset-normalizer<3,>=2 in /usr/local/lib/python3.7/dist-packages (from requests>=2.26->yfinance) (2.1.1)\n",
            "Requirement already satisfied: idna<4,>=2.5 in /usr/local/lib/python3.7/dist-packages (from requests>=2.26->yfinance) (2.10)\n",
            "Requirement already satisfied: urllib3<1.27,>=1.21.1 in /usr/local/lib/python3.7/dist-packages (from requests>=2.26->yfinance) (1.24.3)\n",
            "Requirement already satisfied: certifi>=2017.4.17 in /usr/local/lib/python3.7/dist-packages (from requests>=2.26->yfinance) (2022.9.24)\n",
            "Installing collected packages: requests, yfinance\n",
            "  Attempting uninstall: requests\n",
            "    Found existing installation: requests 2.23.0\n",
            "    Uninstalling requests-2.23.0:\n",
            "      Successfully uninstalled requests-2.23.0\n",
            "Successfully installed requests-2.28.1 yfinance-0.1.87\n",
            "51.295257568359375\n",
            "[Timestamp('2022-01-03 00:00:00-0500', tz='America/New_York'), Timestamp('2022-06-16 00:00:00-0400', tz='America/New_York')]\n"
          ]
        }
      ],
      "source": [
        "!pip install yfinance\n",
        "\n",
        "#---------------讀取資料\n",
        "from pandas.core.indexes.extension import deprecate_ndim_indexing\n",
        "import pandas as pd\n",
        "import numpy as np\n",
        "import math\n",
        "import yfinance as yf\n",
        "\n",
        "msft = yf.Ticker(\"AAPL\")\n",
        "\n",
        "# get stock info\n",
        "msft.info\n",
        "\n",
        "# get historical market data\n",
        "hist = msft.history(period=\"1y\")                       #,  start = \"2021-11-08\" , end = \"2022-11-08\" 加上這串可以指定時段\n",
        "hist['Date'] = hist.index                           #將index 移到 Columns\n",
        "data=hist[[\"Close\", \"Volume\", \"Date\"]]                    #收盤價格， 交易量\n",
        "\n",
        "#---------------將cloumns放到個別的代數\n",
        "ddate = list(hist[[\"Date\"]].iloc[:, 0])                   #交易日期\n",
        "close = list(hist[[\"Close\"]].iloc[:, 0])                   #收盤價格\n",
        "volume = list(hist[[\"Volume\"]].iloc[:, 0])                  #成交量\n",
        "n = (len(close))                               #收盤價格總數\n",
        "#---------------找 max(delta(p)) 和 Date\n",
        "\n",
        "V0 = np.mean(volume)*(len(data)/2) \n",
        "\n",
        "s_diff = []\n",
        "s_date = []\n",
        "for h in range(n-1, 0, -1):                        #251-0 一定要用-1因為默認0開始\n",
        "  v_sum = 0                                 #初始化 v_sum\n",
        "  for i in range(n-2, 0, -1):                      #250-0\n",
        "    v_sum = 0                               #初始化 v_sum\n",
        "    if (v_sum < V0):                           #若v_sum小於V0\n",
        "      v_sum = v_sum + data.iloc[i, 1]                #累加 v_sum\n",
        "      s_diff.append(close[h]-close[i])                  #價差相減 append 回傳至集合 後面日期-前面日期\n",
        "      s_date.append([(ddate[(close.index(max(close)))]), (ddate[(close.index(min(close)))])]) # max(close), min(close)位置帶出date\n",
        "    else:\n",
        "      v_sum = 0                             #若v_sum大於V0 初始化v_sum\n",
        "      break                                #跳出迴圈\n",
        "\n",
        "print(max(s_diff))                               #印出 max(delta(p))\n",
        "# print((s_diff))                               #印出 delta(p)\n",
        "print(s_date[0])                                #印出 max(delta(p))之date)\n",
        "# print((ddate[(close.index(max(close)))]), (ddate[(close.index(min(close)))]))"
      ]
    }
  ]
}