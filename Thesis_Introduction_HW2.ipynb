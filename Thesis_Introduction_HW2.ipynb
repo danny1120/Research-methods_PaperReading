{
  "nbformat": 4,
  "nbformat_minor": 0,
  "metadata": {
    "colab": {
      "provenance": []
    },
    "kernelspec": {
      "name": "python3",
      "display_name": "Python 3"
    },
    "language_info": {
      "name": "python"
    }
  },
  "cells": [
    {
      "cell_type": "code",
      "execution_count": 5,
      "metadata": {
        "colab": {
          "base_uri": "https://localhost:8080/"
        },
        "id": "t0M8I19M4NBD",
        "outputId": "7e356264-cb99-4560-a697-2fb4c9acb64e"
      },
      "outputs": [
        {
          "output_type": "stream",
          "name": "stdout",
          "text": [
            "51.295257568359375\n",
            "[Timestamp('2022-01-03 00:00:00-0500', tz='America/New_York'), Timestamp('2022-06-16 00:00:00-0400', tz='America/New_York')]\n"
          ]
        }
      ],
      "source": [
        "#---------------讀取資料\n",
        "!pip install yfinance\n",
        "from pandas.core.indexes.extension import deprecate_ndim_indexing\n",
        "import pandas as pd\n",
        "import numpy as np\n",
        "import math\n",
        "import yfinance as yf\n",
        "\n",
        "# get stock info\n",
        "msft = yf.Ticker(\"AAPL\")\n",
        "\n",
        "msft.info\n",
        "\n",
        "# get historical market data\n",
        "hist = msft.history(period=\"1y\")                       #,  start = \"2021-11-08\" , end = \"2022-11-08\" 加上這串可以指定時段\n",
        "hist['Date'] = hist.index                           #將index 移到 Columns\n",
        "data=hist[[\"Close\", \"Volume\", \"Date\"]]                    #收盤價格， 交易量\n",
        "\n",
        "#---------------將cloumns放到個別的代數\n",
        "ddate = list(hist[[\"Date\"]].iloc[:, 0])                   #交易日期\n",
        "close = list(hist[[\"Close\"]].iloc[:, 0])                   #收盤價格\n",
        "volume = list(hist[[\"Volume\"]].iloc[:, 0])                  #成交量\n",
        "n = (len(close))                               #收盤價格總數\n",
        "#---------------找 max(delta(p)) 和 Date\n",
        "\n",
        "V0 = np.mean(volume)*(len(data)/4) \n",
        "\n",
        "s_diff = []\n",
        "s_date = []\n",
        "for h in range(n-1, 0, -1):                        #251-0 一定要用-1因為默認0開始\n",
        "  # v_sum = 0                                 #初始化 v_sum\n",
        "  for i in range(n-2, 0, -1):                      #250-0\n",
        "    v_sum = 0                               #初始化 v_sum\n",
        "    if (v_sum < V0):                           #若v_sum小於V0\n",
        "      v_sum = v_sum + data.iloc[i, 1]                #累加 v_sum\n",
        "      s_diff.append(close[h]-close[i])                  #價差相減 append 回傳至集合 後面日期-前面日期\n",
        "      s_date.append([(ddate[(close.index(max(close)))]), (ddate[(close.index(min(close)))])]) # max(close), min(close)位置帶出date\n",
        "    else:\n",
        "      v_sum = 0                             #若v_sum大於V0 初始化v_sum\n",
        "      break                                #跳出迴圈\n",
        "\n",
        "print(max(s_diff))                               #print max(delta(p))\n",
        "# print((s_diff))                               #print delta(p)\n",
        "print(s_date[0])                                #print max(delta(p))之date)\n",
        "# print((ddate[(close.index(max(close)))]), (ddate[(close.index(min(close)))]))"
      ]
    },
    {
      "cell_type": "markdown",
      "source": [
        "## Verify Using max(close) and min(close) to subtraction"
      ],
      "metadata": {
        "id": "vbKacCvATAh2"
      }
    },
    {
      "cell_type": "code",
      "source": [
        "print((max(close))-(min(close)))"
      ],
      "metadata": {
        "colab": {
          "base_uri": "https://localhost:8080/"
        },
        "id": "IUK2tNmnmRnS",
        "outputId": "e3234125-586d-4153-c9be-43b2cdce0691"
      },
      "execution_count": 2,
      "outputs": [
        {
          "output_type": "stream",
          "name": "stdout",
          "text": [
            "51.29524230957031\n"
          ]
        }
      ]
    }
  ]
}